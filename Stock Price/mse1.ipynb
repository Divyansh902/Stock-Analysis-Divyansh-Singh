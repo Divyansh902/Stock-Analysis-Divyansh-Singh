{
  "nbformat": 4,
  "nbformat_minor": 0,
  "metadata": {
    "colab": {
      "provenance": []
    },
    "kernelspec": {
      "name": "python3",
      "display_name": "Python 3"
    },
    "language_info": {
      "name": "python"
    }
  },
  "cells": [
    {
      "cell_type": "code",
      "execution_count": null,
      "metadata": {
        "id": "QcRKHuzT18jL"
      },
      "outputs": [],
      "source": [
        "import numpy as np\n",
        "import pandas as pd\n",
        "import matplotlib.pyplot as plt\n",
        "\n",
        "file_path = 'stock_data.csv'\n",
        "df = pd.read_csv(file_path, parse_dates=['Date'], index_col='Date')\n",
        "\n",
        "\n",
        "plt.figure(figsize=(12, 6))\n",
        "plt.plot(df['Close'], label='Close Price')\n",
        "plt.title('Stock Price Movement')\n",
        "plt.xlabel('Date')\n",
        "plt.ylabel('Price')\n",
        "plt.legend()\n",
        "plt.show()\n",
        "\n",
        "\n",
        "df['SMA_50'] = df['Close'].rolling(window=50).mean()\n",
        "df['SMA_200'] = df['Close'].rolling(window=200).mean()\n",
        "df['RSI'] = 100 - (100 / (1 + df['Close'].pct_change().rolling(14).mean() / df['Close'].pct_change().rolling(14).std()))\n",
        "df['MACD'] = df['Close'].ewm(span=12, adjust=False).mean() - df['Close'].ewm(span=26, adjust=False).mean()\n",
        "\n",
        "plt.figure(figsize=(12, 6))\n",
        "plt.plot(df['Close'], label='Close Price', alpha=0.5)\n",
        "plt.plot(df['SMA_50'], label='50-Day SMA', linestyle='dashed')\n",
        "plt.plot(df['SMA_200'], label='200-Day SMA', linestyle='dotted')\n",
        "plt.title('Stock Price with Moving Averages')\n",
        "plt.xlabel('Date')\n",
        "plt.ylabel('Price')\n",
        "plt.legend()\n",
        "plt.show()\n",
        "\n",
        "fig, ax = plt.subplots(2, 1, figsize=(12, 8))\n",
        "ax[0].plot(df['MACD'], label='MACD', color='purple')\n",
        "ax[0].axhline(0, color='black', linestyle='dashed', linewidth=1)\n",
        "ax[0].set_title('MACD Indicator')\n",
        "ax[0].legend()\n",
        "\n",
        "ax[1].plot(df['RSI'], label='RSI', color='green')\n",
        "ax[1].axhline(70, color='red', linestyle='dashed', linewidth=1)\n",
        "ax[1].axhline(30, color='blue', linestyle='dashed', linewidth=1)\n",
        "ax[1].set_title('Relative Strength Index (RSI)')\n",
        "ax[1].legend()\n",
        "\n",
        "plt.tight_layout()\n",
        "plt.show()\n",
        "\n",
        "print(df[['Close', 'SMA_50', 'SMA_200', 'RSI', 'MACD']].dropna().tail())"
      ]
    }
  ]
}